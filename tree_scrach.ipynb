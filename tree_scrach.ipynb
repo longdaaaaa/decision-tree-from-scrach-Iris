{
 "cells": [
  {
   "cell_type": "code",
   "execution_count": 9,
   "metadata": {
    "ExecuteTime": {
     "end_time": "2025-04-23T17:28:11.796844Z",
     "start_time": "2025-04-23T17:28:11.751841Z"
    }
   },
   "outputs": [],
   "source": [
    "import numpy as np\n",
    "import pandas as pd\n",
    "\n",
    "def entropy(y):\n",
    "    \"\"\"calculating tag y's entropy\"\"\"\n",
    "    value_counts = np.bincount(y)\n",
    "    probabilities = value_counts[value_counts > 0] / len(y)\n",
    "    return -np.sum(probabilities * np.log2(probabilities))\n",
    "\n",
    "\n",
    "def information_gain(X_column, y):\n",
    "    \"\"\"Caluculate info gain based on certain division\"\"\"\n",
    "    total_entropy = entropy(y)\n",
    "    values = np.unique(X_column)\n",
    "    \n",
    "    weighted_entropy = 0\n",
    "    for val in values:\n",
    "        subset_y = y[X_column == val]\n",
    "        weight = len(subset_y) / len(y)\n",
    "        weighted_entropy += weight * entropy(subset_y)\n",
    "\n",
    "    return total_entropy - weighted_entropy\n"
   ]
  },
  {
   "cell_type": "code",
   "execution_count": 10,
   "metadata": {
    "ExecuteTime": {
     "end_time": "2025-04-23T17:28:11.841845Z",
     "start_time": "2025-04-23T17:28:11.796844Z"
    }
   },
   "outputs": [
    {
     "name": "stdout",
     "output_type": "stream",
     "text": [
      "Information Gain for each feature:\n",
      "0. sepal length (cm) --> Info Gain = 0.8769\n",
      "1. sepal width (cm) --> Info Gain = 0.5166\n",
      "2. petal length (cm) --> Info Gain = 1.4463\n",
      "3. petal width (cm) --> Info Gain = 1.4359\n",
      "\n",
      "Best feature to split: petal length (cm) (Gain = 1.4463)\n"
     ]
    }
   ],
   "source": [
    "from sklearn.datasets import load_iris\n",
    "import pandas as pd\n",
    "\n",
    "# load the data\n",
    "iris = load_iris()\n",
    "X = pd.DataFrame(iris.data, columns=iris.feature_names)\n",
    "y = iris.target\n",
    "\n",
    "# calculate the info gain for each feature\n",
    "print(\"Information Gain for each feature:\")\n",
    "best_feature = None\n",
    "best_gain = -1\n",
    "\n",
    "for i, column in enumerate(X.columns):\n",
    "    gain = information_gain(X[column], y)\n",
    "    print(f\"{i}. {column} --> Info Gain = {gain:.4f}\")\n",
    "    if gain > best_gain:\n",
    "        best_gain = gain\n",
    "        best_feature = column\n",
    "\n",
    "print(f\"\\nBest feature to split: {best_feature} (Gain = {best_gain:.4f})\")"
   ]
  },
  {
   "cell_type": "code",
   "execution_count": 11,
   "metadata": {
    "ExecuteTime": {
     "end_time": "2025-04-23T17:28:11.856861Z",
     "start_time": "2025-04-23T17:28:11.841845Z"
    }
   },
   "outputs": [],
   "source": [
    "class Node:\n",
    "    def __init__(self, feature=None, threshold=None, children=None, value=None):\n",
    "        \"\"\"\n",
    "        dicision tree class\n",
    "        \n",
    "        \"\"\"\n",
    "        self.feature = feature\n",
    "        self.threshold = threshold\n",
    "        self.children = children or {}\n",
    "        self.value = value\n",
    "\n",
    "    def is_leaf(self):\n",
    "        return self.value is not None"
   ]
  },
  {
   "cell_type": "code",
   "execution_count": 12,
   "metadata": {
    "ExecuteTime": {
     "end_time": "2025-04-23T17:28:11.871844Z",
     "start_time": "2025-04-23T17:28:11.856861Z"
    }
   },
   "outputs": [],
   "source": [
    "# tree sturcture printer\n",
    "\n",
    "def print_tree(node, depth=0):\n",
    "    indent = \"  \" * depth  \n",
    "\n",
    "    if node.is_leaf():\n",
    "        print(f\"{indent}Predict → Class {node.value}\")\n",
    "        return\n",
    "\n",
    "    for val, child in node.children.items():\n",
    "        print(f\"{indent}If {node.feature} == {val}:\")\n",
    "        print_tree(child, depth + 1)"
   ]
  },
  {
   "cell_type": "code",
   "execution_count": 13,
   "metadata": {
    "ExecuteTime": {
     "end_time": "2025-04-23T17:28:11.886844Z",
     "start_time": "2025-04-23T17:28:11.871844Z"
    }
   },
   "outputs": [],
   "source": [
    "from graphviz import Digraph\n",
    "\n",
    "def visualize_tree(node, dot=None, node_id=0):\n",
    "    if dot is None:\n",
    "        dot = Digraph()\n",
    "\n",
    "    current_id = str(node_id)\n",
    "\n",
    "    if node.is_leaf():\n",
    "        label = f\"Predict: {node.value}\"\n",
    "    else:\n",
    "        label = f\"{node.feature}\"\n",
    "\n",
    "    dot.node(current_id, label)\n",
    "\n",
    "    for i, (val, child) in enumerate(node.children.items()):\n",
    "        child_id = f\"{node_id}_{i}\"  \n",
    "        dot.edge(current_id, child_id, label=str(val))\n",
    "        visualize_tree(child, dot, child_id)\n",
    "\n",
    "    return dot\n"
   ]
  },
  {
   "cell_type": "code",
   "execution_count": 14,
   "metadata": {
    "ExecuteTime": {
     "end_time": "2025-04-23T17:28:11.961845Z",
     "start_time": "2025-04-23T17:28:11.886844Z"
    }
   },
   "outputs": [
    {
     "name": "stdout",
     "output_type": "stream",
     "text": [
      "If petal length (cm) == 1.0:\n",
      "  Predict → Class 0\n",
      "If petal length (cm) == 1.1:\n",
      "  Predict → Class 0\n",
      "If petal length (cm) == 1.2:\n",
      "  Predict → Class 0\n",
      "If petal length (cm) == 1.3:\n",
      "  Predict → Class 0\n",
      "If petal length (cm) == 1.4:\n",
      "  Predict → Class 0\n",
      "If petal length (cm) == 1.5:\n",
      "  Predict → Class 0\n",
      "If petal length (cm) == 1.6:\n",
      "  Predict → Class 0\n",
      "If petal length (cm) == 1.7:\n",
      "  Predict → Class 0\n",
      "If petal length (cm) == 1.9:\n",
      "  Predict → Class 0\n",
      "If petal length (cm) == 3.0:\n",
      "  Predict → Class 1\n",
      "If petal length (cm) == 3.3:\n",
      "  Predict → Class 1\n",
      "If petal length (cm) == 3.5:\n",
      "  Predict → Class 1\n",
      "If petal length (cm) == 3.6:\n",
      "  Predict → Class 1\n",
      "If petal length (cm) == 3.7:\n",
      "  Predict → Class 1\n",
      "If petal length (cm) == 3.8:\n",
      "  Predict → Class 1\n",
      "If petal length (cm) == 3.9:\n",
      "  Predict → Class 1\n",
      "If petal length (cm) == 4.0:\n",
      "  Predict → Class 1\n",
      "If petal length (cm) == 4.1:\n",
      "  Predict → Class 1\n",
      "If petal length (cm) == 4.2:\n",
      "  Predict → Class 1\n",
      "If petal length (cm) == 4.3:\n",
      "  Predict → Class 1\n",
      "If petal length (cm) == 4.4:\n",
      "  Predict → Class 1\n",
      "If petal length (cm) == 4.5:\n",
      "  If sepal length (cm) == 4.9:\n",
      "    Predict → Class 2\n",
      "  If sepal length (cm) == 5.4:\n",
      "    Predict → Class 1\n",
      "  If sepal length (cm) == 5.6:\n",
      "    Predict → Class 1\n",
      "  If sepal length (cm) == 5.7:\n",
      "    Predict → Class 1\n",
      "  If sepal length (cm) == 6.0:\n",
      "    Predict → Class 1\n",
      "  If sepal length (cm) == 6.2:\n",
      "    Predict → Class 1\n",
      "  If sepal length (cm) == 6.4:\n",
      "    Predict → Class 1\n",
      "If petal length (cm) == 4.6:\n",
      "  Predict → Class 1\n",
      "If petal length (cm) == 4.7:\n",
      "  Predict → Class 1\n",
      "If petal length (cm) == 4.8:\n",
      "  If sepal length (cm) == 5.9:\n",
      "    Predict → Class 1\n",
      "  If sepal length (cm) == 6.0:\n",
      "    Predict → Class 2\n",
      "  If sepal length (cm) == 6.2:\n",
      "    Predict → Class 2\n",
      "  If sepal length (cm) == 6.8:\n",
      "    Predict → Class 1\n",
      "If petal length (cm) == 4.9:\n",
      "  If sepal width (cm) == 2.5:\n",
      "    Predict → Class 1\n",
      "  If sepal width (cm) == 2.7:\n",
      "    Predict → Class 2\n",
      "  If sepal width (cm) == 2.8:\n",
      "    Predict → Class 2\n",
      "  If sepal width (cm) == 3.0:\n",
      "    Predict → Class 2\n",
      "  If sepal width (cm) == 3.1:\n",
      "    Predict → Class 1\n",
      "If petal length (cm) == 5.0:\n",
      "  If sepal length (cm) == 5.7:\n",
      "    Predict → Class 2\n",
      "  If sepal length (cm) == 6.0:\n",
      "    Predict → Class 2\n",
      "  If sepal length (cm) == 6.3:\n",
      "    Predict → Class 2\n",
      "  If sepal length (cm) == 6.7:\n",
      "    Predict → Class 1\n",
      "If petal length (cm) == 5.1:\n",
      "  If sepal length (cm) == 5.8:\n",
      "    Predict → Class 2\n",
      "  If sepal length (cm) == 5.9:\n",
      "    Predict → Class 2\n",
      "  If sepal length (cm) == 6.0:\n",
      "    Predict → Class 1\n",
      "  If sepal length (cm) == 6.3:\n",
      "    Predict → Class 2\n",
      "  If sepal length (cm) == 6.5:\n",
      "    Predict → Class 2\n",
      "  If sepal length (cm) == 6.9:\n",
      "    Predict → Class 2\n",
      "If petal length (cm) == 5.2:\n",
      "  Predict → Class 2\n",
      "If petal length (cm) == 5.3:\n",
      "  Predict → Class 2\n",
      "If petal length (cm) == 5.4:\n",
      "  Predict → Class 2\n",
      "If petal length (cm) == 5.5:\n",
      "  Predict → Class 2\n",
      "If petal length (cm) == 5.6:\n",
      "  Predict → Class 2\n",
      "If petal length (cm) == 5.7:\n",
      "  Predict → Class 2\n",
      "If petal length (cm) == 5.8:\n",
      "  Predict → Class 2\n",
      "If petal length (cm) == 5.9:\n",
      "  Predict → Class 2\n",
      "If petal length (cm) == 6.0:\n",
      "  Predict → Class 2\n",
      "If petal length (cm) == 6.1:\n",
      "  Predict → Class 2\n",
      "If petal length (cm) == 6.3:\n",
      "  Predict → Class 2\n",
      "If petal length (cm) == 6.4:\n",
      "  Predict → Class 2\n",
      "If petal length (cm) == 6.6:\n",
      "  Predict → Class 2\n",
      "If petal length (cm) == 6.7:\n",
      "  Predict → Class 2\n",
      "If petal length (cm) == 6.9:\n",
      "  Predict → Class 2\n"
     ]
    }
   ],
   "source": [
    "# define the tree building function\n",
    "\n",
    "def build_tree(X, y, depth=0):\n",
    "   \n",
    "    if len(set(y)) == 1:\n",
    "        return Node(value=y[0])\n",
    "    \n",
    "    if X.shape[1] == 0:\n",
    "        most_common = np.bincount(y).argmax()\n",
    "        return Node(value=most_common)\n",
    "\n",
    "    best_gain = -1\n",
    "    best_feature = None\n",
    "\n",
    "    for column in X.columns:\n",
    "        gain = information_gain(X[column], y)\n",
    "        if gain > best_gain:\n",
    "            best_gain = gain\n",
    "            best_feature = column\n",
    "\n",
    "    if best_gain == 0:\n",
    "        most_common = np.bincount(y).argmax()\n",
    "        return Node(value=most_common)\n",
    "\n",
    "    root = Node(feature=best_feature)\n",
    "    for val in np.unique(X[best_feature]):\n",
    "        idx = X[best_feature] == val\n",
    "        child = build_tree(X[idx].drop(columns=[best_feature]), y[idx], depth + 1)\n",
    "        root.children[val] = child\n",
    "\n",
    "    return root\n",
    "\n",
    "\n",
    "tree = build_tree(X, y)\n",
    "print_tree(tree)"
   ]
  },
  {
   "cell_type": "code",
   "execution_count": 15,
   "metadata": {
    "ExecuteTime": {
     "end_time": "2025-04-23T17:28:12.116030Z",
     "start_time": "2025-04-23T17:28:11.961845Z"
    }
   },
   "outputs": [
    {
     "name": "stdout",
     "output_type": "stream",
     "text": [
      "Accuracy on training data: 100.00%\n"
     ]
    }
   ],
   "source": [
    "def predict_sample(node, sample):\n",
    "    \n",
    "    if node.is_leaf():\n",
    "        return node.value\n",
    "\n",
    "    feature_value = sample[node.feature]\n",
    "    child = node.children.get(feature_value)\n",
    "\n",
    "    if child is None:\n",
    "\n",
    "        return None\n",
    "\n",
    "    return predict_sample(child, sample)\n",
    "\n",
    "def predict_all(node, X):\n",
    "\n",
    "    return [predict_sample(node, row) for _, row in X.iterrows()]\n",
    "\n",
    "def accuracy(y_true, y_pred):\n",
    "    y_true = np.array(y_true)\n",
    "    y_pred = np.array(y_pred)\n",
    "    valid = y_pred != None\n",
    "    return (y_true[valid] == y_pred[valid]).sum() / valid.sum()\n",
    "\n",
    "tree = build_tree(X, y)\n",
    "\n",
    "y_pred = predict_all(tree, X)\n",
    "\n",
    "acc = accuracy(y, y_pred)\n",
    "print(f\"Accuracy on training data: {acc * 100:.2f}%\")"
   ]
  },
  {
   "cell_type": "code",
   "execution_count": 16,
   "metadata": {
    "ExecuteTime": {
     "end_time": "2025-04-23T17:28:12.252085Z",
     "start_time": "2025-04-23T17:28:12.117081Z"
    }
   },
   "outputs": [
    {
     "name": "stdout",
     "output_type": "stream",
     "text": [
      "scratch_tree.png\n"
     ]
    }
   ],
   "source": [
    "dot = visualize_tree(tree)\n",
    "dot.render(\"scratch_tree\", format=\"png\", cleanup=True)\n",
    "\n",
    "print(\"scratch_tree.png\")"
   ]
  }
 ],
 "metadata": {
  "kernelspec": {
   "display_name": "Python 3.9.2 64-bit",
   "language": "python",
   "name": "python3"
  },
  "language_info": {
   "codemirror_mode": {
    "name": "ipython",
    "version": 3
   },
   "file_extension": ".py",
   "mimetype": "text/x-python",
   "name": "python",
   "nbconvert_exporter": "python",
   "pygments_lexer": "ipython3",
   "version": "3.9.2"
  },
  "orig_nbformat": 4,
  "vscode": {
   "interpreter": {
    "hash": "6fff98fc3b3d81bd655c2cc48858186e4d9e2db7b515bf1c3221888f12a62f87"
   }
  }
 },
 "nbformat": 4,
 "nbformat_minor": 2
}
